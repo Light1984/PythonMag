{
  "metadata": {
    "vscode": {
      "interpreter": {
        "hash": "916dbcbb3f70747c44a77c7bcd40155683ae19c65e1c03b4aa3499c5328201f1"
      }
    },
    "kernelspec": {
      "name": "python",
      "display_name": "Python (Pyodide)",
      "language": "python"
    },
    "language_info": {
      "codemirror_mode": {
        "name": "python",
        "version": 3
      },
      "file_extension": ".py",
      "mimetype": "text/x-python",
      "name": "python",
      "nbconvert_exporter": "python",
      "pygments_lexer": "ipython3",
      "version": "3.8"
    }
  },
  "nbformat_minor": 4,
  "nbformat": 4,
  "cells": [
    {
      "cell_type": "markdown",
      "source": "# Задание 1\n\n(**NB.** для запуска примеров кода нужен Python версии не ниже **3.10**, допускается использование других версий, в этом случае нужно самостоятельно избавиться от конструкции `match`).\n\nЕсть следующий код для [автоматического дифференцирования](https://en.wikipedia.org/wiki/Automatic_differentiation), в котором используются особенности системы типов языка `Python`: ",
      "metadata": {}
    },
    {
      "cell_type": "code",
      "source": "from dataclasses import dataclass\nfrom typing import Union, Callable\nfrom numbers import Number\n\n@dataclass\nclass Dual:\n    value: float\n    d: float\n\n    def __add__(self, other: Union[\"Dual\", Number]) -> \"Dual\":\n         match other:\n            case Dual(o_value, o_d):\n                return Dual(self.value + o_value, self.d + o_d)\n            case Number():\n                return Dual(float(other) + self.value, self.d)\n\n    def __mul__(self, other: Union[\"Dual\", Number]) -> \"Dual\":\n         match other:\n            case Dual(o_value, o_d):\n                return Dual(self.value * o_value, self.value * o_d + self.d * o_value)\n            case Number():\n                return Dual(float(other) * self.value, float(other) * self.d)    \n\n    __rmul__ = __mul__  # https://docs.python.org/3/reference/datamodel.html#object.__mul__\n    __radd__ = __add__  # https://docs.python.org/3/reference/datamodel.html#object.__radd__\n \n\ndef diff(func: Callable[[float], float]) -> Callable[[float], float]:\n    return lambda x: func(Dual(x, 1.0)).d ",
      "metadata": {
        "trusted": true
      },
      "execution_count": 1,
      "outputs": []
    },
    {
      "cell_type": "markdown",
      "source": "Поддерживаются две операции - сложение и умножение. Применить можно так:",
      "metadata": {}
    },
    {
      "cell_type": "code",
      "source": "# Функция, которую будем дифференцировать\ndef f(x: float) -> float:\n    return 5 * x * x + 2 * x + 2\n\nf_diff = diff(f)\n\n# значение производной в точке x = 2\nf_diff(2)",
      "metadata": {
        "trusted": true
      },
      "execution_count": 2,
      "outputs": [
        {
          "execution_count": 2,
          "output_type": "execute_result",
          "data": {
            "text/plain": "22.0"
          },
          "metadata": {}
        }
      ]
    },
    {
      "cell_type": "markdown",
      "source": "## Задание 1.1 (5 баллов)\n\nКакие недостатки вы видите в данной реализации? Реализуйте поддержку (полностью самостоятельно или модифицируя приведенный код):\n- [унарных операций](https://docs.python.org/3/reference/datamodel.html#object.__neg__) \n- деления\n- возведения в степень\n\nКаким образом можно проверить корректность решения?  Реализуйте достаточный, по вашему мнению, набор тестов.",
      "metadata": {}
    },
    {
      "cell_type": "code",
      "source": "# ваш код\nfrom dataclasses import dataclass\nfrom typing import Union, Callable\nfrom numbers import Number\nimport numpy as np\n\n@dataclass\nclass Dual:\n    value: float\n    d: float\n    \n    def __add__(self, other: Union[\"Dual\", Number]) -> \"Dual\":\n        match other:\n            case Dual(o_value, o_d):\n                return Dual(self.value + o_value, self.d + o_d)\n            case Number():\n                return Dual(float(other) + self.value, self.d)\n\n    def __mul__(self, other: Union[\"Dual\", Number]) -> \"Dual\":\n        match other:\n            case Dual(o_value, o_d):\n                return Dual(self.value * o_value, self.value * o_d + self.d * o_value)\n            case Number():\n                return Dual(float(other) * self.value, float(other) * self.d)\n\n    __rmul__ = __mul__\n    __radd__ = __add__\n\n    def __neg__(self) -> \"Dual\":\n        return Dual(-self.value, -self.d)\n    \n    def __pos__(self) -> \"Dual\":\n        return Dual(self.value, self.d)\n    \n    def __abs__(self) -> \"Dual\":\n        return Dual(abs(self.value), self.value / abs(self.value) * self.d)\n    \n    def __sub__(self, other: Union[\"Dual\", Number]) -> \"Dual\":\n        match other:\n            case Dual(o_value, o_d):\n                return Dual(self.value - o_value, self.d - o_d)\n            case Number():\n                return Dual(self.value - float(other), self.d)\n    \n    def __rsub__(self, other: Union[\"Dual\", Number]) -> \"Dual\":\n        match other:\n            case Dual(o_value, o_d):\n                return self.__sub__(other, self)\n            case Number():\n                return Dual(float(other) - self.value, -self.d)\n    \n    def __truediv__(self, other: Union[\"Dual\", Number]) -> \"Dual\":\n        match other:\n            case Dual(o_value, o_d):\n                return Dual(self.value / o_value, (self.d * o_value - self.value * o_d) / o_value ** 2)\n            case Number():\n                return Dual(self.value / float(other), self.d / float(other))\n    \n    def __rtruediv__(self, other: Union[\"Dual\", Number]) -> \"Dual\":\n        match other:\n            case Dual(o_value, o_d):\n                return self.__truediv__(other, self)\n            case Number():\n                return Dual(float(other) / self.value, -float(other) * self.value ** -2 * self.d)\n\n    def __pow__(self, other: Union[\"Dual\", Number]) -> \"Dual\":\n        match other:\n            case Dual(o_value, o_d):\n                return Dual(self.value ** o_value, o_value * self.value ** (o_value - 1) * \n                        self.d + self.value ** o_value * o_d * np.log(self.value))\n            case Number():\n                return Dual(self.value ** float(other), float(other) * self.value ** (float(other) - 1) * self.d)\n    \n    def __rpow__(self, other: Union[\"Dual\", Number]) -> \"Dual\":\n        match other:\n            case Dual(o_value, o_d):\n                return self.__pow__(other, self)\n            case Number():\n                return Dual(float(other) ** self.value, float(other) ** self.value * np.log(float(other)) * self.d)\n\ndef diff(func: Callable[[float], float]) -> Callable[[float], float]:\n    return lambda x: func(Dual(x, 1.0)).d\n\n\ntests_1 = [lambda x: -x * 5 + 3 * +x,\n           lambda x: abs(x * 5),\n           lambda x: (3 / (x * x)) + (x / x) - (x / 2),\n           lambda x: x ** 3 - 2 ** x + x ** x,\n           lambda x: abs(-x / 2) / (((2 ** x) ** x) ** (2 / +x))]\n\nfor f in tests_1:\n    f_diff = diff(f)\n    print(f_diff(2))",
      "metadata": {
        "trusted": true
      },
      "execution_count": 4,
      "outputs": [
        {
          "name": "stdout",
          "text": "-2.0\n5.0\n-1.25\n16.0\n-0.05539339756999316\n",
          "output_type": "stream"
        }
      ]
    },
    {
      "cell_type": "markdown",
      "source": "## Задание 1.2 (7 баллов)\nПридумайте способ и реализуйте поддержку функций:\n- `exp()`\n- `cos()`\n- `sin()`\n- `log()`\n\nДобавьте соответствующие тесты",
      "metadata": {}
    },
    {
      "cell_type": "code",
      "source": "# ваш код\ndef exp(arg: Union[\"Dual\", Number]) -> Union[\"Dual\", Number]:\n    match arg:\n        case Dual(value, d):\n            return Dual(np.exp(arg.value), np.exp(arg.value) * arg.d)\n        case Number():\n            return np.exp(arg)\n\ndef cos(arg: Union[\"Dual\", Number]) -> \"Dual\":\n    match arg:\n        case Dual(value, d):\n            return Dual(np.cos(arg.value), -np.sin(arg.value) * arg.d)\n        case Number():\n            return np.cos(arg)\n\ndef sin(arg: Union[\"Dual\", Number]) -> \"Dual\":\n    match arg:\n        case Dual(value, d):\n            return Dual(np.sin(arg.value), np.cos(arg.value) * arg.d)\n        case Number():\n            return np.sin(arg)\n\ndef log(arg: Union[\"Dual\", Number]) -> \"Dual\":\n    match arg:\n        case Dual(value, d):\n            return Dual(np.log(arg.value), 1 / arg.value * arg.d)\n        case Number():\n            return np.log(arg)\n        \ntests_2 = [lambda x: exp(x ** 2),\n           lambda x: cos(x / 3.4),\n           lambda x: sin(x) ** 2,\n           lambda x: -log(x / 10),\n           lambda x: exp(sin(cos(x)) / log(x))]\n\nfor f in tests_2:\n    f_diff = diff(f)\n    print(f_diff(2))",
      "metadata": {
        "trusted": true
      },
      "execution_count": 5,
      "outputs": [
        {
          "name": "stdout",
          "text": "218.39260013257694\n-0.16320405631285667\n-0.7568024953079283\n-0.5\n-0.4348774016278626\n",
          "output_type": "stream"
        }
      ]
    },
    {
      "cell_type": "markdown",
      "source": "## Задание 1.3 (3 балла)\n\nВоспользуйтесь методами **численного** дифференцирования для \"проверки\" работы кода на нескольких примерах. Например,  библиотеке `scipy` есть функция `derivative`. Или реализуйте какой-нибудь метод численного дифференцирования самостоятельно (**+5 баллов**)",
      "metadata": {}
    },
    {
      "cell_type": "code",
      "source": "from scipy.misc import derivative\n\ndef f(x: float) -> float:\n    return 5 * x * x + 2 * x + 2\n\nderivative(f, 2.)",
      "metadata": {
        "trusted": true
      },
      "execution_count": 6,
      "outputs": [
        {
          "execution_count": 6,
          "output_type": "execute_result",
          "data": {
            "text/plain": "22.0"
          },
          "metadata": {}
        }
      ]
    },
    {
      "cell_type": "code",
      "source": "# ваш код\ntests_3 = [lambda x: -x * 5 + 3 * +x,\n         lambda x: abs(x * 5),\n         lambda x: (3 / (x * x)) + (x / x) - (x / 2),\n         lambda x: x ** 3 - 2 ** x + x ** x,\n         lambda x: abs(-x / 2) / (((2 ** x) ** x) ** (2 / +x)),\n         lambda x: exp(x ** 2),\n         lambda x: cos(x / 3.4),\n         lambda x: sin(x) ** 2,\n         lambda x: -log(x / 10),\n         lambda x: exp(sin(np.cos(x)) / log(x))]\n\nfor f in tests_3:\n    print(derivative(f, 2., dx=1e-6))",
      "metadata": {
        "trusted": true
      },
      "execution_count": 7,
      "outputs": [
        {
          "name": "stdout",
          "text": "-2.000000000723645\n5.00000000069889\n-1.2500000001192113\n16.00000000134827\n-0.05539339757373862\n218.3926001393388\n-0.16320405632486157\n-0.7568024952830932\n-0.500000000069889\n-0.4348774016449397\n",
          "output_type": "stream"
        }
      ]
    },
    {
      "cell_type": "markdown",
      "source": "## Задание 1.4 (10 баллов)\n\nНеобходимо разработать систему автоматического тестирования алгоритма дифференцирования в следующем виде:\n- реализовать механизм генерации \"случайных функций\" (например, что-то вроде такого: $f(x) = x + 5 * x - \\cos(20 * \\log(12 - 20 * x * x )) - 20 * x$ )\n- сгенерировать достаточно большое число функций и сравнить результаты символьного и численного дифференцирования в случайных точках ",
      "metadata": {}
    },
    {
      "cell_type": "markdown",
      "source": "Генерацию случайных функций можно осуществить, например, двумя путями. \n1. Генерировать функцию в текстовом виде, зачем использовать встроенную функцию [eval](https://docs.python.org/3/library/functions.html#eval)\n\n```python\nfunc = eval(\"lambda x: 2 * x + 5\")\nassert func(42) == 89 \n```\n\n2. Использовать стандартный модуль [ast](https://docs.python.org/3/library/ast.html), который позволяет во время выполнения программы манипулировать [Абстрактным Синтаксическим Деревом](https://ru.wikipedia.org/wiki/%D0%90%D0%B1%D1%81%D1%82%D1%80%D0%B0%D0%BA%D1%82%D0%BD%D0%BE%D0%B5_%D1%81%D0%B8%D0%BD%D1%82%D0%B0%D0%BA%D1%81%D0%B8%D1%87%D0%B5%D1%81%D0%BA%D0%BE%D0%B5_%D0%B4%D0%B5%D1%80%D0%B5%D0%B2%D0%BE).\nНапример, выражение \n\n```python\nfunc = lambda x: 2 * x + 5\n```\n\nМожно запрограммировать с помощью кода:\n\n```python\n\nexpr = ast.Expression(\n    body=ast.Lambda(\n        args=ast.arguments(\n            args=[\n                ast.arg(arg='x')\n            ],\n            posonlyargs=[],\n            kwonlyargs=[],\n            kw_defaults=[],\n            defaults=[]\n        ),\n        body=ast.BinOp(\n            left=ast.BinOp(\n                left=ast.Constant(value=2),\n                op=ast.Mult(),\n                right=ast.Name(id='x', ctx=ast.Load())\n            ),\n            op=ast.Add(),\n            right=ast.Constant(value=5)\n        )\n    )\n)\n\nast.fix_missing_locations(expr)\n\nfunc = eval(compile(expr, filename=\"\", mode=\"eval\"))\n\nassert func(42) == 89\n```\n\nПри реализации нужно учитывать области допустимых значений функций.",
      "metadata": {}
    },
    {
      "cell_type": "code",
      "source": "# ваш код\nfrom random import randint, choice\n\ndef gen_func(var_number: int = 4) -> Callable[[float], float]:\n    func = \"lambda x: \"\n\n    un_op = ['+', '-']\n    bi_op = [\" + \", \" - \", \" * \", \" / \", \" ** \"]\n    math_functions = [\"abs(\", \"exp(\", \"cos(\", \"sin(\", \"log(\"]\n\n    scripts = [\"var\", \"number\", \"un_op\", \"func\", \"open_br\"]\n    close_br_count = 0\n    var_count = 0\n\n    while(var_count < var_number):\n        match choice(scripts):\n            case \"var\":\n                func += 'x'\n                scripts = [\"bi_op\"] + [\"close_br\"] * close_br_count\n                var_count += 1\n            case \"number\":\n                func += str(randint(0, 10))\n                scripts = [\"bi_op\"] + [\"close_br\"] * close_br_count\n            case \"un_op\":\n                func += choice(un_op)\n                scripts = [\"var\"] * 3 + [\"number\", \"func\", \"open_br\"]\n            case \"bi_op\":\n                func += choice(bi_op)\n                scripts = [\"var\"] * 3 + [\"number\", \"func\", \"open_br\"]\n            case \"func\":\n                func += choice(math_functions)\n                close_br_count += 1\n                scripts = [\"var\"] * 3 + [\"number\", \"un_op\", \"func\", \"open_br\"]\n            case \"open_br\":\n                func += '('\n                close_br_count += 1\n                scripts = [\"var\"] * 3 + [\"number\", \"un_op\", \"func\"]\n            case \"close_br\":\n                func += ')'\n                close_br_count -= 1\n                scripts = [\"bi_op\"]\n\n    if close_br_count > 0:\n        func += ')' * close_br_count\n\n    return func\n\n\nfor i in range(10):\n    str_f = gen_func()\n    print(str_f)\n    f = eval(str_f)\n\n    for j in range(5):\n        try:\n            x = randint(-30, 30)\n\n            f_diff = diff(f)\n            my_result = f_diff(2)\n\n            ver_result = derivative(f, 2., dx=1e-6)\n            \n            print(f\"{x} {my_result} {ver_result}\")\n        except:\n            continue",
      "metadata": {
        "trusted": true
      },
      "execution_count": 8,
      "outputs": [
        {
          "name": "stdout",
          "text": "lambda x: abs(-(exp(-1 / x) + x) * x / x)\n-25 1.1516326649281585 1.1516326650085063\n-23 1.1516326649281585 1.1516326650085063\n26 1.1516326649281585 1.1516326650085063\n-9 1.1516326649281585 1.1516326650085063\n-19 1.1516326649281585 1.1516326650085063\nlambda x: exp(x) + (x + x) * 4 - sin(-x)\n29 14.972909262383508 14.972909262667145\n-16 14.972909262383508 14.972909262667145\n3 14.972909262383508 14.972909262667145\n-27 14.972909262383508 14.972909262667145\n-13 14.972909262383508 14.972909262667145\nlambda x: log(x / x) ** x ** x\n3 nan 0.0\n-26 nan 0.0\n5 nan 0.0\n-11 nan 0.0\n6 nan 0.0\nlambda x: x / x ** exp(+(6) ** (3) - 10 / (x ** x))\n-11 nan 0.0\n-1 nan 0.0\n29 nan 0.0\n24 nan 0.0\n16 nan 0.0\nlambda x: +(x + x ** (7) + cos(x) * (+x))\n12 446.7652583098015 446.7652583173276\n18 446.7652583098015 446.7652583173276\n17 446.7652583098015 446.7652583173276\n-18 446.7652583098015 446.7652583173276\n-24 446.7652583098015 446.7652583173276\nlambda x: cos(x * x ** x) ** 6 ** (log(8) ** x)\n0 nan nan\n2 nan nan\n-7 nan nan\n5 nan nan\n17 nan nan\nlambda x: -(x * 9 + (-4) + x) / 1 - exp(10) + x - (x)\n-5 -10.0 -9.999999747378752\n4 -10.0 -9.999999747378752\n30 -10.0 -9.999999747378752\n22 -10.0 -9.999999747378752\n-22 -10.0 -9.999999747378752\nlambda x: x * (x) * 6 - x / abs(+(7) / x)\n-18 23.428571428571427 23.42857142956234\n-1 23.428571428571427 23.42857142956234\n6 23.428571428571427 23.42857142956234\n-8 23.428571428571427 23.42857142956234\n19 23.428571428571427 23.42857142956234\nlambda x: abs(8 * x + (x) - x) + (x)\n1 9.0 9.000000000369823\n21 9.0 9.000000000369823\n-10 9.0 9.000000000369823\n-24 9.0 9.000000000369823\n12 9.0 9.000000000369823\nlambda x: abs(x - (x) / x - (x))\n-2 -0.0 0.0\n-27 -0.0 0.0\n17 -0.0 0.0\n17 -0.0 0.0\n-27 -0.0 0.0\n",
          "output_type": "stream"
        }
      ]
    },
    {
      "cell_type": "markdown",
      "source": "## Задание 1.5 (7 баллов)\n\nРеализуйте поддержку функций нескольких аргументов. Например\n\n```python\ndef f(x: float, y: float, z: float) -> float:\n    return x * y + z - 5 * y  \n\n\nf_diff = diff(f)\n\nf_diff(10, 10, 10) # = [10, 5, 1]\n```",
      "metadata": {}
    },
    {
      "cell_type": "code",
      "source": "# ваш код\ndef diff(func: Callable[[tuple[float, ...]], float]) -> Callable[[tuple[float, ...]], list[float]]:\n    args_number = func.__code__.co_argcount\n\n    def f_diff(*args: tuple[float, ...]) -> list[float]:\n        lst_d = list()\n\n        for i in range(args_number):\n            new_args = list()\n            for j in range(args_number):\n                if j == i:\n                    new_args.append(Dual(args[j], 1.0))\n                else:\n                    new_args.append(Dual(args[j], 0.0))\n            \n            lst_d.append(func(*new_args).d)\n\n        return lst_d\n    \n    return f_diff\n\ndef f(x: float, y: float, z: float) -> float:\n    return x * y + z - 5 * y\n\nf_diff = diff(f)\nf_diff(10, 10, 10)\n\n",
      "metadata": {
        "trusted": true
      },
      "execution_count": 9,
      "outputs": [
        {
          "execution_count": 9,
          "output_type": "execute_result",
          "data": {
            "text/plain": "[10.0, 5.0, 1.0]"
          },
          "metadata": {}
        }
      ]
    },
    {
      "cell_type": "code",
      "source": "def f(x: float, y: float) -> float:\n    return cos(x) * y\n\nf_diff = diff(f)\nf_diff(10, 10)",
      "metadata": {
        "trusted": true
      },
      "execution_count": 10,
      "outputs": [
        {
          "execution_count": 10,
          "output_type": "execute_result",
          "data": {
            "text/plain": "[5.440211108893697, -0.8390715290764524]"
          },
          "metadata": {}
        }
      ]
    }
  ]
}