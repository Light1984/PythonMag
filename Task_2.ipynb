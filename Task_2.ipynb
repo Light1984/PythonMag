{
  "cells": [
    {
      "cell_type": "markdown",
      "metadata": {
        "id": "-8P25HmnbsWh"
      },
      "source": [
        "# Задание 2.\n",
        "\n",
        "**NB. Все упражнения ниже нужно делать без использования циклов Python в явном (`while`, `for`) и неявном виде (list comprehension, `map`, `reduce` и пр)**\n",
        "\n",
        "Задания по манипуляциям с массивами чаще всего решаются в одно/два выражения. "
      ]
    },
    {
      "cell_type": "code",
      "execution_count": 1,
      "metadata": {
        "colab": {
          "base_uri": "https://localhost:8080/"
        },
        "id": "WVV37CN-bsWk",
        "outputId": "a7d26620-1c02-4059-9bc7-5da89d6d53cf"
      },
      "outputs": [
        {
          "output_type": "execute_result",
          "data": {
            "text/plain": [
              "array([[16, 17, 99, ..., 89, 95, 66],\n",
              "       [74, 88, 32, ..., 23, 89, 46],\n",
              "       [82, 24, 89, ..., 19, 21, 94],\n",
              "       ...,\n",
              "       [51, 21, 11, ..., 39, 37, 61],\n",
              "       [ 9, 86, 24, ..., 23, 52, 24],\n",
              "       [39,  7, 50, ...,  1, 65, 66]])"
            ]
          },
          "metadata": {},
          "execution_count": 1
        }
      ],
      "source": [
        "%matplotlib inline\n",
        "\n",
        "import numpy as np\n",
        "import matplotlib.pyplot as plt\n",
        "import seaborn as sns\n",
        "sns.set_theme()\n",
        "\n",
        "A = np.random.randint(0, 100, size=(200, 50))\n",
        "A"
      ]
    },
    {
      "cell_type": "markdown",
      "metadata": {
        "id": "g1hkKolubsWm"
      },
      "source": [
        "# Задание 2.1 (2 балла)\n",
        "\n",
        "Сгенерируйте новый массив, в котором столбцы массива `A` переставлены в случайном порядке"
      ]
    },
    {
      "cell_type": "code",
      "execution_count": 2,
      "metadata": {
        "colab": {
          "base_uri": "https://localhost:8080/"
        },
        "id": "NssKMnnWbsWm",
        "outputId": "5201b646-6682-452e-8645-ba047cba5f50"
      },
      "outputs": [
        {
          "output_type": "execute_result",
          "data": {
            "text/plain": [
              "array([[84, 11, 55, ..., 17, 11, 67],\n",
              "       [ 1, 87, 28, ..., 88, 60, 48],\n",
              "       [56, 78, 76, ..., 24, 70, 61],\n",
              "       ...,\n",
              "       [19, 63, 17, ..., 21, 99, 61],\n",
              "       [44, 23, 73, ..., 86, 24, 13],\n",
              "       [15, 48,  9, ...,  7, 57, 40]])"
            ]
          },
          "metadata": {},
          "execution_count": 2
        }
      ],
      "source": [
        "k = np.random.default_rng()\n",
        "\n",
        "k.shuffle(A, axis=1)\n",
        "A"
      ]
    },
    {
      "cell_type": "markdown",
      "metadata": {
        "id": "BpBNK8y4bsWm"
      },
      "source": [
        "# Задание 2.2 (5 баллов)\n",
        "\n",
        "Сгенерируйте новый массив, который содержит только те строки массива `A`, в которых: \n",
        "- сумма элементов по четным столбцам (индексы $0, 2, \\ldots$) больше среднего значения (по всему массиву) суммы элементов по нечетным столбцам (индексы $1, 3, \\ldots$) "
      ]
    },
    {
      "cell_type": "code",
      "execution_count": 3,
      "metadata": {
        "colab": {
          "base_uri": "https://localhost:8080/"
        },
        "id": "EC5LpE58bsWn",
        "outputId": "f8c1a38a-8be8-4627-a913-84c5d58c6d1d"
      },
      "outputs": [
        {
          "output_type": "execute_result",
          "data": {
            "text/plain": [
              "array([[84, 11, 55, ..., 17, 11, 67],\n",
              "       [79, 89, 19, ..., 22, 57, 79],\n",
              "       [ 6,  4, 58, ..., 23,  6,  4],\n",
              "       ...,\n",
              "       [37,  8,  4, ...,  6, 35, 77],\n",
              "       [19, 63, 17, ..., 21, 99, 61],\n",
              "       [44, 23, 73, ..., 86, 24, 13]])"
            ]
          },
          "metadata": {},
          "execution_count": 3
        }
      ],
      "source": [
        "A[A[:, ::2].sum(axis=1) > A[:, 1::2].sum(axis=1).mean()]"
      ]
    },
    {
      "cell_type": "markdown",
      "metadata": {
        "id": "Hltom8ZibsWn"
      },
      "source": [
        "# Задача 2.3 (3 балла)\n",
        "\n",
        "Найдите индекс строки массива `A`, в которой разница между максимальным и минимальным элементом максимальна"
      ]
    },
    {
      "cell_type": "code",
      "execution_count": 5,
      "metadata": {
        "colab": {
          "base_uri": "https://localhost:8080/"
        },
        "id": "OXKYg0a2bsWn",
        "outputId": "2104a4bc-3dde-4e56-a1e6-16d8779e6d23"
      },
      "outputs": [
        {
          "output_type": "execute_result",
          "data": {
            "text/plain": [
              "0"
            ]
          },
          "metadata": {},
          "execution_count": 5
        }
      ],
      "source": [
        "np.argmax(A.max(axis=1) - A.min(axis=1))"
      ]
    },
    {
      "cell_type": "markdown",
      "metadata": {
        "id": "qJRyXISVbsWo"
      },
      "source": [
        "# Задание 2.4 (7 баллов)\n",
        "\n",
        "Сгенерируйте массив той же размерности, что и `A`, но в котором каждый элемент заменен на его порядковый номер (начиная с 1) в отсортированном по возрастанию массиве из элементов `A`\n",
        "\n",
        "Если `A` выглядит так:\n",
        "$$\n",
        "\\begin{pmatrix}\n",
        "12 & 14\\\\\n",
        "1 & 2\n",
        "\\end{pmatrix}\n",
        "$$\n",
        "то результат должен быть\n",
        "$$\n",
        "\\begin{pmatrix}\n",
        "3 & 4\\\\\n",
        "1 & 2\n",
        "\\end{pmatrix}\n",
        "$$\n",
        "\n",
        "*Tip: рассмотрите возможность неоднократного применения [argsort()](https://numpy.org/doc/stable/reference/generated/numpy.ndarray.argsort.html)*"
      ]
    },
    {
      "cell_type": "code",
      "execution_count": 6,
      "metadata": {
        "colab": {
          "base_uri": "https://localhost:8080/"
        },
        "id": "qC4c3X3sbsWo",
        "outputId": "49cd5dac-bd1a-4fc5-dba4-4c5816c4e49f"
      },
      "outputs": [
        {
          "output_type": "execute_result",
          "data": {
            "text/plain": [
              "array([[8397, 1157, 5531, ..., 1805, 1164, 6683],\n",
              "       [  79, 8703, 2903, ..., 8772, 6025, 4786],\n",
              "       [5556, 7784, 7572, ..., 2485, 6983, 6120],\n",
              "       ...,\n",
              "       [1927, 6321, 1806, ..., 2113, 9913, 6135],\n",
              "       [4431, 2386, 7332, ..., 8651, 2491, 1348],\n",
              "       [1534, 4855,  915, ...,  698, 5703, 4069]])"
            ]
          },
          "metadata": {},
          "execution_count": 6
        }
      ],
      "source": [
        "A.argsort(axis=None).argsort().reshape(A.shape) + 1"
      ]
    },
    {
      "cell_type": "markdown",
      "metadata": {
        "id": "HA-AMMrzbsWo"
      },
      "source": [
        "# Задание 2.5 (2 балла)\n",
        "\n",
        "Примените $\\min-\\max$ - нормализацию к строкам массива `A`. То есть нужно получить новый массивы, в каждой строке которого максимальный элементы равен $1$, минимальный - $0$. "
      ]
    },
    {
      "cell_type": "code",
      "execution_count": 7,
      "metadata": {
        "colab": {
          "base_uri": "https://localhost:8080/"
        },
        "id": "xnlNfp9AbsWo",
        "outputId": "dbd7204b-7e17-4656-8911-c22c53f93f26"
      },
      "outputs": [
        {
          "output_type": "execute_result",
          "data": {
            "text/plain": [
              "array([[0.84848485, 0.11111111, 0.55555556, ..., 0.17171717, 0.11111111,\n",
              "        0.67676768],\n",
              "       [0.        , 0.90526316, 0.28421053, ..., 0.91578947, 0.62105263,\n",
              "        0.49473684],\n",
              "       [0.57142857, 0.79591837, 0.7755102 , ..., 0.24489796, 0.71428571,\n",
              "        0.62244898],\n",
              "       ...,\n",
              "       [0.19191919, 0.63636364, 0.17171717, ..., 0.21212121, 1.        ,\n",
              "        0.61616162],\n",
              "       [0.44329897, 0.22680412, 0.74226804, ..., 0.87628866, 0.2371134 ,\n",
              "        0.12371134],\n",
              "       [0.16129032, 0.51612903, 0.09677419, ..., 0.07526882, 0.61290323,\n",
              "        0.43010753]])"
            ]
          },
          "metadata": {},
          "execution_count": 7
        }
      ],
      "source": [
        "(A - np.vstack(A.min(axis=1))) / np.vstack(A.max(axis=1) - A.min(axis=1))"
      ]
    },
    {
      "cell_type": "markdown",
      "metadata": {
        "id": "GSBvQ3sLbsWp"
      },
      "source": [
        "# Задание 2.6 (2 балла)\n",
        "\n",
        "Сгенерируйте новый трехмерный массив, размерности $10 \\times 200 \\times 50$. Подмассивы по нулевой оси должны состоять из элементов `A`, умноженных на $1 - 10$ соответственно"
      ]
    },
    {
      "cell_type": "code",
      "execution_count": 8,
      "metadata": {
        "colab": {
          "base_uri": "https://localhost:8080/"
        },
        "id": "Oci3MINXbsWp",
        "outputId": "fea41fc2-be28-4f3d-c2e4-e209ecd9526c"
      },
      "outputs": [
        {
          "output_type": "execute_result",
          "data": {
            "text/plain": [
              "array([[[ 84,  11,  55, ...,  17,  11,  67],\n",
              "        [  1,  87,  28, ...,  88,  60,  48],\n",
              "        [ 56,  78,  76, ...,  24,  70,  61],\n",
              "        ...,\n",
              "        [ 19,  63,  17, ...,  21,  99,  61],\n",
              "        [ 44,  23,  73, ...,  86,  24,  13],\n",
              "        [ 15,  48,   9, ...,   7,  57,  40]],\n",
              "\n",
              "       [[168,  22, 110, ...,  34,  22, 134],\n",
              "        [  2, 174,  56, ..., 176, 120,  96],\n",
              "        [112, 156, 152, ...,  48, 140, 122],\n",
              "        ...,\n",
              "        [ 38, 126,  34, ...,  42, 198, 122],\n",
              "        [ 88,  46, 146, ..., 172,  48,  26],\n",
              "        [ 30,  96,  18, ...,  14, 114,  80]],\n",
              "\n",
              "       [[252,  33, 165, ...,  51,  33, 201],\n",
              "        [  3, 261,  84, ..., 264, 180, 144],\n",
              "        [168, 234, 228, ...,  72, 210, 183],\n",
              "        ...,\n",
              "        [ 57, 189,  51, ...,  63, 297, 183],\n",
              "        [132,  69, 219, ..., 258,  72,  39],\n",
              "        [ 45, 144,  27, ...,  21, 171, 120]],\n",
              "\n",
              "       ...,\n",
              "\n",
              "       [[672,  88, 440, ..., 136,  88, 536],\n",
              "        [  8, 696, 224, ..., 704, 480, 384],\n",
              "        [448, 624, 608, ..., 192, 560, 488],\n",
              "        ...,\n",
              "        [152, 504, 136, ..., 168, 792, 488],\n",
              "        [352, 184, 584, ..., 688, 192, 104],\n",
              "        [120, 384,  72, ...,  56, 456, 320]],\n",
              "\n",
              "       [[756,  99, 495, ..., 153,  99, 603],\n",
              "        [  9, 783, 252, ..., 792, 540, 432],\n",
              "        [504, 702, 684, ..., 216, 630, 549],\n",
              "        ...,\n",
              "        [171, 567, 153, ..., 189, 891, 549],\n",
              "        [396, 207, 657, ..., 774, 216, 117],\n",
              "        [135, 432,  81, ...,  63, 513, 360]],\n",
              "\n",
              "       [[840, 110, 550, ..., 170, 110, 670],\n",
              "        [ 10, 870, 280, ..., 880, 600, 480],\n",
              "        [560, 780, 760, ..., 240, 700, 610],\n",
              "        ...,\n",
              "        [190, 630, 170, ..., 210, 990, 610],\n",
              "        [440, 230, 730, ..., 860, 240, 130],\n",
              "        [150, 480,  90, ...,  70, 570, 400]]])"
            ]
          },
          "metadata": {},
          "execution_count": 8
        }
      ],
      "source": [
        "A * np.arange(1, 11).reshape(10, 1, 1)"
      ]
    },
    {
      "cell_type": "markdown",
      "metadata": {
        "id": "Sjerkhh7bsWp"
      },
      "source": [
        "# Задание 2.7 (2 балла)\n",
        "\n",
        "Создайте новый массив, такой же размерности, как и `A`, в котором сначала сгруппированы четные столбцы `A`, потом  нечетные. Используйте [np.concat()](https://numpy.org/doc/stable/reference/generated/numpy.concatenate.html) "
      ]
    },
    {
      "cell_type": "code",
      "execution_count": 9,
      "metadata": {
        "colab": {
          "base_uri": "https://localhost:8080/"
        },
        "id": "1NQnMwsWbsWp",
        "outputId": "4ad7aa17-3656-431f-e302-84b0bcba2f08"
      },
      "outputs": [
        {
          "output_type": "execute_result",
          "data": {
            "text/plain": [
              "array([[84, 55, 81, ...,  8, 17, 67],\n",
              "       [ 1, 28, 86, ..., 51, 88, 48],\n",
              "       [56, 76, 71, ..., 61, 24, 61],\n",
              "       ...,\n",
              "       [19, 17, 24, ..., 91, 21, 61],\n",
              "       [44, 73, 24, ...,  7, 86, 13],\n",
              "       [15,  9,  0, ..., 12,  7, 40]])"
            ]
          },
          "metadata": {},
          "execution_count": 9
        }
      ],
      "source": [
        "np.concatenate((A[:, ::2], A[:, 1::2]), axis=1)"
      ]
    },
    {
      "cell_type": "markdown",
      "metadata": {
        "id": "7Tf2AJ3vbsWp"
      },
      "source": [
        "# Задание 2.8 (2 балла)\n",
        "\n",
        "Посчитайте количество строк массива `A`, в который все элементы больше 5. Используйте [np.all()](https://numpy.org/doc/stable/reference/generated/numpy.all.html) "
      ]
    },
    {
      "cell_type": "code",
      "execution_count": 10,
      "metadata": {
        "colab": {
          "base_uri": "https://localhost:8080/"
        },
        "id": "oeomN_k5bsWp",
        "outputId": "5822f40a-a839-4742-9d77-652da4547b2f"
      },
      "outputs": [
        {
          "output_type": "execute_result",
          "data": {
            "text/plain": [
              "10"
            ]
          },
          "metadata": {},
          "execution_count": 10
        }
      ],
      "source": [
        "np.count_nonzero(np.all(A > 5, axis=1))"
      ]
    },
    {
      "cell_type": "markdown",
      "metadata": {
        "id": "qNiIuoPsbsWp"
      },
      "source": [
        "# Задание 2.9 (2 балла)\n",
        "\n",
        "Поделите массив `A` горизонтально на 10 частей и создайте новый массив размерности $20 \\times 50$, который является средним этих частей. Используйте [np.split()](https://numpy.org/doc/stable/reference/generated/numpy.split.html)"
      ]
    },
    {
      "cell_type": "code",
      "execution_count": 11,
      "metadata": {
        "colab": {
          "base_uri": "https://localhost:8080/"
        },
        "id": "gjbKCJ34bsWq",
        "outputId": "05e50841-af29-46cc-d1b0-52d817266d18"
      },
      "outputs": [
        {
          "output_type": "execute_result",
          "data": {
            "text/plain": [
              "array([[45.5, 39.9, 51.4, 54.5, 56.4, 48.3, 42.8, 55.4, 45.3, 57.3, 55.1,\n",
              "        67.2, 61.7, 65.9, 63.5, 59.2, 60.7, 51.2, 66.9, 41.5, 44.3, 43.9,\n",
              "        56.9, 69.1, 49.6, 53.2, 48.9, 58. , 45.2, 58.8, 62. , 45.5, 50.2,\n",
              "        57.6, 50.9, 46.4, 75.1, 40.2, 50.5, 41.5, 46.5, 36.6, 61.7, 54.4,\n",
              "        56.2, 49. , 49.6, 51.1, 48.3, 46.7],\n",
              "       [38.8, 58.2, 48.8, 42.5, 53.7, 35.8, 49.7, 44.8, 47.7, 40.3, 48.7,\n",
              "        52.6, 36. , 46.9, 55.9, 45.7, 42.7, 44.9, 59.1, 59.1, 39. , 52.9,\n",
              "        36.7, 53.9, 61.8, 46.9, 50.6, 38.9, 36.3, 56.9, 60.4, 48.7, 37.4,\n",
              "        61.5, 49.9, 56. , 42.3, 49.1, 52.5, 49.5, 50.4, 51.7, 48.6, 41.4,\n",
              "        43.5, 42.9, 56.3, 43.1, 53.2, 40.3],\n",
              "       [51.5, 46.5, 58.5, 60.7, 54.4, 47.8, 44.5, 44.7, 52.4, 48.5, 45.2,\n",
              "        52.5, 36.3, 55.6, 50.2, 57.3, 38.4, 41.7, 58.8, 59. , 46.2, 59.7,\n",
              "        36.6, 42.7, 57.2, 53.4, 46.8, 55.3, 46.4, 44.2, 43. , 54.5, 51.1,\n",
              "        33.5, 48. , 63.4, 55.3, 42.3, 41.6, 40.6, 57.4, 67.3, 53.7, 49.9,\n",
              "        67.7, 40.7, 42.7, 41.7, 48.5, 58.6],\n",
              "       [38.4, 57.8, 42.1, 45.9, 59.5, 49.5, 51. , 39.6, 42.6, 31.7, 58.4,\n",
              "        38.9, 52.5, 55.1, 37.8, 56.2, 40.6, 57. , 62.1, 56.4, 60.7, 39.1,\n",
              "        48.5, 48.1, 57.5, 43.8, 56.6, 59.2, 53.7, 64.1, 33.6, 58.9, 35.8,\n",
              "        43. , 39.6, 49.6, 70.7, 23.5, 32.9, 61. , 54.2, 51.2, 30.8, 51.8,\n",
              "        58.2, 48.2, 46. , 59.8, 60.1, 64.8],\n",
              "       [41.8, 58.4, 64.9, 47.5, 46.3, 33.4, 58.4, 55.1, 71.2, 66. , 46.9,\n",
              "        56.1, 54.9, 46.1, 48.8, 55.6, 60. , 45. , 57.2, 58.5, 54.3, 51.9,\n",
              "        55.6, 35.6, 39.7, 36.2, 63.8, 53.6, 55.4, 47.1, 61. , 72.9, 55.4,\n",
              "        47.7, 52.3, 49.9, 36.1, 51.4, 54. , 33.7, 43.4, 56.1, 35.3, 47.5,\n",
              "        62.4, 42.6, 57.8, 58.9, 51. , 69.7],\n",
              "       [51.5, 58. , 54.8, 43.9, 34.6, 49.9, 61.4, 50.6, 47.4, 49.6, 40.9,\n",
              "        48.2, 50.1, 54.5, 33.8, 43.6, 46.3, 34.8, 58.6, 60.8, 70.2, 35.1,\n",
              "        45.7, 66.1, 51.9, 35.2, 39. , 51.8, 46.4, 44.7, 65.6, 33.8, 52.3,\n",
              "        43.3, 43.6, 51.6, 51.8, 58.1, 52.2, 49.4, 42.6, 54.1, 45.4, 56.5,\n",
              "        58.9, 52.1, 40.6, 40.7, 56.4, 40.6],\n",
              "       [52.6, 42.3, 55.3, 41. , 37.7, 60.1, 65.2, 50.8, 55.9, 50.3, 51.8,\n",
              "        49.2, 44.2, 54.6, 40.8, 50.5, 50.4, 61.9, 56.8, 53.9, 50.1, 55.1,\n",
              "        45.9, 63.8, 32.4, 58.8, 55.4, 52.2, 45. , 53. , 58.8, 48.1, 51.6,\n",
              "        49.7, 38.6, 64. , 62.2, 37.2, 37.5, 40.3, 66.6, 54.5, 47.5, 34. ,\n",
              "        40.4, 65.7, 45.7, 38.8, 60.3, 50.3],\n",
              "       [34.6, 42.4, 55.9, 46. , 57. , 62.1, 48.8, 57.9, 46.8, 40.1, 43.3,\n",
              "        55.2, 49.7, 53.1, 44.8, 48.9, 52.8, 43.7, 30.2, 65.3, 69.9, 62.9,\n",
              "        65.6, 46.2, 44.5, 43.7, 47.7, 40.2, 50.7, 43.5, 54.5, 39.8, 47.7,\n",
              "        40.2, 58.3, 56.7, 54.5, 37.7, 57.4, 47.1, 59.4, 63.5, 41. , 51.3,\n",
              "        60.5, 65.5, 62.6, 49.9, 42. , 51.5],\n",
              "       [44.8, 41.6, 55.9, 56.6, 41.5, 52. , 37.6, 39.2, 51.9, 59.9, 40.4,\n",
              "        51.2, 39.3, 49.9, 43.2, 51.7, 56.8, 51.2, 41.2, 41.5, 43.3, 38.8,\n",
              "        59.2, 38.7, 57.4, 63.8, 43.2, 46.1, 62.5, 45.2, 61.5, 48.9, 40.9,\n",
              "        52. , 44.8, 59.2, 53.2, 58.6, 37.6, 41.1, 54.5, 60.4, 55.9, 54.7,\n",
              "        45.3, 38. , 51.5, 57.3, 41.5, 52.7],\n",
              "       [24. , 50.2, 59. , 44.6, 62.4, 43.7, 55.8, 40.7, 45.7, 40.7, 37.5,\n",
              "        39.1, 54.5, 45. , 45.7, 60.1, 46.6, 46.1, 42.3, 40.6, 46.6, 56.2,\n",
              "        38.2, 55.3, 58.1, 48.8, 58.4, 52.7, 20.9, 53. , 55.6, 42.4, 53.6,\n",
              "        48. , 53.5, 43.6, 37.4, 57. , 42.6, 49.2, 36.7, 53.8, 62.4, 40.7,\n",
              "        53.5, 39. , 50.8, 68.5, 53.6, 54.6],\n",
              "       [47.8, 56.3, 56.2, 39.1, 56.8, 49.8, 52.7, 34.7, 62.5, 43.4, 56.9,\n",
              "        45.5, 23.8, 48.2, 59. , 62.9, 51.7, 48.6, 53.9, 64.1, 54.8, 55.7,\n",
              "        48. , 45.4, 51.1, 54.2, 44.1, 51.5, 44.9, 38.8, 51.7, 52.8, 44.2,\n",
              "        48. , 44.2, 27.9, 56.3, 47.8, 54.5, 56.2, 43. , 64.3, 49.5, 58.7,\n",
              "        61.7, 43.1, 43.5, 55.8, 36.2, 49.2],\n",
              "       [63.6, 52.8, 47.9, 42.2, 51.5, 40. , 38.7, 57.1, 54.9, 58.6, 41.9,\n",
              "        57. , 50.5, 59.3, 41.7, 48.4, 57.1, 42.9, 46.9, 32.2, 47.8, 56.5,\n",
              "        62.8, 64.7, 39.7, 38.4, 37.6, 42.7, 40.7, 24.2, 38.1, 28.3, 46.1,\n",
              "        57. , 54.6, 52.9, 67.5, 53.2, 43.7, 60.5, 45.8, 34.2, 49.7, 48.9,\n",
              "        38.7, 20.9, 54.3, 42.9, 49.1, 58.4],\n",
              "       [55.1, 48. , 58.1, 37.6, 52.1, 50.2, 55.3, 49.5, 57.6, 45.7, 36.3,\n",
              "        50. , 50. , 41. , 47.6, 68. , 40.2, 56.3, 52.9, 53.2, 56.6, 47.3,\n",
              "        49.3, 54.2, 43.4, 51.1, 43.6, 51.7, 77. , 46.7, 70.5, 41.7, 49.3,\n",
              "        59.5, 47.4, 47.5, 54.4, 40.4, 33.6, 39.9, 64.8, 40.4, 58.1, 43.6,\n",
              "        47.4, 64.6, 61.7, 64.9, 57.4, 46.8],\n",
              "       [46.6, 64.4, 47.8, 50. , 31.9, 73.6, 62.7, 41.6, 41. , 53. , 34.9,\n",
              "        45.5, 49.4, 53.9, 52.3, 32.5, 57.3, 46.2, 57.6, 62.9, 53.7, 60.5,\n",
              "        43.7, 63.1, 63.7, 48.7, 48. , 62.9, 42.2, 57.9, 41.9, 51.5, 43.8,\n",
              "        53.8, 59.7, 42.3, 48.1, 52.2, 63.4, 41.6, 50. , 41.1, 48.7, 32.6,\n",
              "        42.7, 32.8, 30.3, 63.5, 43.6, 61. ],\n",
              "       [61.2, 44.3, 51.2, 59.7, 36. , 52.2, 36.4, 56.5, 47.6, 55.5, 39.3,\n",
              "        56.2, 60.8, 36.5, 51.2, 51.9, 36.1, 60.6, 54.2, 35.2, 37.8, 37.6,\n",
              "        35.9, 64.3, 50.2, 50.7, 43.6, 55.7, 42.5, 52.6, 23.4, 52. , 46.4,\n",
              "        38. , 45.7, 40.8, 47.6, 40.9, 34.6, 45.7, 39.2, 36.5, 61.8, 48. ,\n",
              "        26.4, 48.8, 34.8, 59.4, 42.2, 43.6],\n",
              "       [40.1, 41.3, 65.3, 50.8, 60.1, 49.4, 60.1, 44.9, 41. , 38. , 43.7,\n",
              "        47.6, 32. , 44.4, 61.7, 45.4, 55.6, 51.4, 50.4, 56.8, 61.6, 58.9,\n",
              "        69. , 51.4, 41.6, 40.3, 55.3, 47.3, 47.4, 49.8, 58.5, 53.6, 49.1,\n",
              "        37.9, 38. , 57.4, 41.4, 71.1, 51.3, 53.1, 53.9, 53.6, 58.4, 46.8,\n",
              "        61.4, 63.8, 43.6, 49.1, 54.6, 57.8],\n",
              "       [52.2, 34.9, 48. , 52.6, 47.9, 39.8, 53.5, 41.5, 52.6, 46.6, 37.7,\n",
              "        40.6, 48.4, 35.9, 36.5, 57.7, 45.9, 42.4, 55.6, 50.9, 43.9, 65.3,\n",
              "        37.4, 43.4, 57.2, 58.1, 50.4, 48.9, 47.7, 67.9, 40.6, 39.2, 55.2,\n",
              "        74.7, 41. , 54.2, 35.8, 45.3, 56.6, 51.1, 42.3, 55.4, 55.2, 40.3,\n",
              "        43.1, 51.8, 54.5, 43.3, 65.2, 48.7],\n",
              "       [36.7, 63.1, 43.4, 60.4, 69.2, 56.9, 64.5, 37.1, 50.7, 62.8, 47.7,\n",
              "        33.4, 41.3, 53. , 61.9, 47.7, 50.4, 59.7, 52.2, 68.1, 70.9, 60.1,\n",
              "        48.3, 28.4, 64.1, 60.1, 34.7, 53. , 53.4, 54.7, 52.7, 52.3, 58.5,\n",
              "        43.9, 55.5, 58.3, 64.2, 59.5, 41.7, 61.3, 47.5, 52.9, 44.1, 46.4,\n",
              "        51.6, 57.1, 57.5, 41.5, 56.8, 46.3],\n",
              "       [48.6, 53.5, 47.9, 50. , 62.3, 42.2, 32. , 50.2, 52.9, 32.6, 50. ,\n",
              "        38.7, 58.2, 28. , 51.1, 58. , 36.6, 34.3, 54.9, 63. , 66.3, 31.9,\n",
              "        50.4, 68.5, 49. , 54.2, 56. , 49.8, 33.3, 62.4, 34.2, 37.8, 40.9,\n",
              "        24.3, 58.6, 56.6, 58.5, 54. , 43.7, 32.6, 59.8, 40.5, 48.1, 63. ,\n",
              "        49.7, 61.1, 37.6, 57.1, 39.8, 61.2],\n",
              "       [48.5, 35.9, 48.4, 36.1, 57.4, 40.7, 55.4, 47.6, 42.3, 58.9, 45.9,\n",
              "        55.4, 46.4, 51.8, 43.5, 43.8, 64.8, 46.8, 46.1, 50.7, 46.7, 44.6,\n",
              "        50.7, 30.1, 58.5, 48. , 45.2, 49.6, 41.7, 58.4, 53.2, 20.5, 40.2,\n",
              "        45.3, 41.5, 43.2, 44.2, 59.1, 55.5, 43.4, 36.9, 46.5, 51.2, 48.4,\n",
              "        40.2, 54.1, 47.7, 49.7, 51.1, 49.4]])"
            ]
          },
          "metadata": {},
          "execution_count": 11
        }
      ],
      "source": [
        "np.array(np.split(A, 10)).mean(axis=0)"
      ]
    },
    {
      "cell_type": "markdown",
      "metadata": {
        "id": "k4t8ga4JbsWq"
      },
      "source": [
        "# Задание 2.10 (4 балла)\n",
        "\n",
        "\"Разверните\" массив `A` в одномерный массив. Оставьте в нём только уникальные элементы в том же порядке, в котором они встречаются в массиве. Используйте [np.unique()](https://numpy.org/doc/stable/reference/generated/numpy.unique.html)"
      ]
    },
    {
      "cell_type": "code",
      "execution_count": 12,
      "metadata": {
        "colab": {
          "base_uri": "https://localhost:8080/"
        },
        "id": "07mtny7QbsWq",
        "outputId": "5715b45d-0e3f-4b5d-bc72-02337c7f31b4"
      },
      "outputs": [
        {
          "output_type": "execute_result",
          "data": {
            "text/plain": [
              "array([84, 11, 55, 82, 81, 91, 19, 99, 25,  2, 93, 80, 89,  0,  7, 58, 72,\n",
              "       48, 40, 10, 78, 28, 65, 68, 67, 66,  1, 50, 16, 38, 63, 35, 92, 26,\n",
              "       20, 24, 36, 95, 85, 75,  8, 17, 87, 86, 42, 96, 73, 23, 32, 44, 70,\n",
              "       83, 27, 29, 88, 46, 43, 12, 74, 54,  6, 41, 51, 60, 56, 76, 71, 22,\n",
              "       57, 69, 98, 14, 94, 45,  3, 30, 15, 21, 33, 61, 62, 53,  5, 90, 49,\n",
              "       47, 34, 31, 97, 39, 64, 13, 18, 79,  9,  4, 52, 37, 77, 59])"
            ]
          },
          "metadata": {},
          "execution_count": 12
        }
      ],
      "source": [
        "u, ind = np.unique(A.flatten(), return_index=True)\n",
        "u[np.argsort(ind)]"
      ]
    },
    {
      "cell_type": "markdown",
      "metadata": {
        "id": "gFvln5jqbsWq"
      },
      "source": [
        "# Задание 2.11 (3 балла)\n",
        "\n",
        "Создайте одномерный массив размерности $200$, в котором каждый элемент - евклидово расстояние между соответствующей строкой `A` и \"средней\" строкой `A`"
      ]
    },
    {
      "cell_type": "code",
      "execution_count": 13,
      "metadata": {
        "colab": {
          "base_uri": "https://localhost:8080/"
        },
        "id": "DzfYV1dBbsWq",
        "outputId": "a0b6f644-e0d6-4f05-d4fa-ded206d5bcc7"
      },
      "outputs": [
        {
          "output_type": "execute_result",
          "data": {
            "text/plain": [
              "array([229.87950104, 197.15056429, 197.18129982, 209.09730988,\n",
              "       185.46389136, 206.66319218, 222.48147114, 193.77588859,\n",
              "       226.04306006, 196.59426492, 195.52579114, 198.96908051,\n",
              "       209.78411522, 185.09474601, 202.28399591, 210.00922599,\n",
              "       195.88799095, 205.0218403 , 204.8732657 , 200.51916367,\n",
              "       185.65698209, 220.40323273, 177.28007502, 195.97529181,\n",
              "       198.31816609, 204.42601351, 204.42403234, 221.27703225,\n",
              "       204.48639319, 195.48180222, 219.62644422, 210.327875  ,\n",
              "       184.15701181, 201.74524778, 202.31706552, 191.21410774,\n",
              "       207.2085061 , 213.35949709, 190.29252481, 195.17098914,\n",
              "       207.94808246, 212.83358523, 181.13697855, 227.54422647,\n",
              "       199.06542894, 202.787364  , 207.57845505, 189.90401523,\n",
              "       189.98846018, 213.31170854, 214.9490521 , 208.62903681,\n",
              "       237.2287609 , 211.58075291, 192.45304622, 204.32502294,\n",
              "       200.99623131, 188.18149484, 198.90152086, 232.32452518,\n",
              "       188.20742546, 227.31932386, 211.21298492, 214.20909178,\n",
              "       214.54278128, 185.3275074 , 220.21111462, 197.96106941,\n",
              "       208.59095139, 178.31316553, 202.24249059, 197.59006807,\n",
              "       195.71651693, 205.88065718, 209.09809899, 208.04003221,\n",
              "       167.99540172, 219.83046877, 200.45651648, 196.45433312,\n",
              "       209.17101855, 218.50282607, 214.77582499, 202.93485408,\n",
              "       237.37993807, 198.77397969, 204.95856898, 184.77003274,\n",
              "       223.95013954, 217.80579653, 191.40411438, 177.20825319,\n",
              "       215.52727206, 199.38464083, 225.32976945, 211.0462627 ,\n",
              "       181.38471545, 203.72679009, 184.64153108, 219.47561368,\n",
              "       228.48567789, 195.72116646, 208.03366314, 201.81267304,\n",
              "       208.09225118, 197.20670628, 219.66036283, 219.43667652,\n",
              "       205.82294576, 167.89876414, 206.50248183, 196.8549593 ,\n",
              "       208.43323871, 197.29798529, 210.85685903, 219.30441172,\n",
              "       210.94844157, 217.68666702, 174.19622556, 224.50914235,\n",
              "       182.28651897, 191.16980672, 192.65179729, 211.01046183,\n",
              "       201.30992276, 219.70087619, 187.7486751 , 224.90779222,\n",
              "       212.30213141, 196.43941814, 186.43292359, 202.10792909,\n",
              "       197.71660274, 203.57751595, 207.3536713 , 213.04927834,\n",
              "       216.67402936, 204.79852294, 232.34305456, 217.60049403,\n",
              "       203.41358116, 199.74289725, 213.82468286, 225.90434923,\n",
              "       219.27591067, 191.94867804, 206.53983877, 206.15277102,\n",
              "       206.02474366, 201.00861922, 203.86688059, 209.1279154 ,\n",
              "       179.73256522, 212.42694038, 205.73177927, 188.43652778,\n",
              "       194.82434396, 184.86293571, 195.05456929, 196.41353059,\n",
              "       197.35735355, 176.76528222, 206.88152407, 206.82181945,\n",
              "       172.58089408, 197.46798475, 222.37494238, 207.03476761,\n",
              "       181.15743153, 190.87408153, 184.8470584 , 183.65381836,\n",
              "       166.64883738, 212.69157247, 202.54166238, 217.61264899,\n",
              "       214.32534848, 193.3830008 , 202.70928691, 236.04748463,\n",
              "       214.3461103 , 195.42890011, 207.68421943, 202.77340802,\n",
              "       215.98452491, 204.67348387, 195.74390157, 225.98206787,\n",
              "       199.27522425, 201.50708424, 224.14266662, 231.93551906,\n",
              "       203.6924029 , 213.15760601, 210.57413184, 216.16316754,\n",
              "       207.44388398, 214.45173117, 216.22401578, 199.73456136])"
            ]
          },
          "metadata": {},
          "execution_count": 13
        }
      ],
      "source": [
        "mean = A.mean(axis=0)\n",
        "np.sqrt(np.sum((A - mean) ** 2, axis=1))"
      ]
    },
    {
      "cell_type": "markdown",
      "metadata": {
        "id": "qtT5gwfTbsWq"
      },
      "source": [
        "# Задание 2.12 (2 балла)\n",
        "\n",
        "Создайте новый массив, который состоит из элементов `A`, измененных по следующим правилам:\n",
        "- если элемент меньше $50$, то он умножается на $2$\n",
        "- в противном случае он умножается на $3$\n",
        "\n",
        "Используйте [np.where()](https://numpy.org/doc/stable/reference/generated/numpy.where.html)"
      ]
    },
    {
      "cell_type": "code",
      "execution_count": 14,
      "metadata": {
        "colab": {
          "base_uri": "https://localhost:8080/"
        },
        "id": "Lk_7pIp-bsWq",
        "outputId": "a7361d9b-93d9-4453-90a8-a39a82f3b29b"
      },
      "outputs": [
        {
          "output_type": "execute_result",
          "data": {
            "text/plain": [
              "array([[252,  22, 165, ...,  34,  22, 201],\n",
              "       [  2, 261,  56, ..., 264, 180,  96],\n",
              "       [168, 234, 228, ...,  48, 210, 183],\n",
              "       ...,\n",
              "       [ 38, 189,  34, ...,  42, 297, 183],\n",
              "       [ 88,  46, 219, ..., 258,  48,  26],\n",
              "       [ 30,  96,  18, ...,  14, 171,  80]])"
            ]
          },
          "metadata": {},
          "execution_count": 14
        }
      ],
      "source": [
        "np.where(A < 50, A * 2, A * 3)"
      ]
    },
    {
      "cell_type": "markdown",
      "metadata": {
        "id": "Rj_4329absWq"
      },
      "source": [
        "# Задание 2.13 (7 баллов)\n",
        "\n",
        "Разверните массив `A` в одномерный массив. Создайте три новых массива, подсчитав скользящие средние по окнам $3$, $5$, $10$. Найдите сумму этих массивов, выровнив из размерности нулями справа\n",
        "\n",
        "*Tip: реализуйте функцию, которая считает скользящее среднее. Используйте [np.cumsum()](https://numpy.org/doc/stable/reference/generated/numpy.cumsum.html) или [np.convolve()](https://numpy.org/doc/stable/reference/generated/numpy.convolve.html)*"
      ]
    },
    {
      "cell_type": "code",
      "execution_count": 15,
      "metadata": {
        "colab": {
          "base_uri": "https://localhost:8080/"
        },
        "id": "gQJj7S0ebsWq",
        "outputId": "05b96e5e-f6e6-4b83-e1e8-1bd036dfc4c8"
      },
      "outputs": [
        {
          "output_type": "execute_result",
          "data": {
            "text/plain": [
              "array([167.5       , 169.13333333, 200.96666667, ...,  31.66666667,\n",
              "        22.66666667,  34.66666667])"
            ]
          },
          "metadata": {},
          "execution_count": 15
        }
      ],
      "source": [
        "def moving_average(arr, window):\n",
        "    return np.convolve(arr, np.ones(window), \"valid\") / window\n",
        "\n",
        "(moving_average(A.flatten(), 3) + \n",
        "np.concatenate((moving_average(A.flatten(), 5), np.zeros(2))) + \n",
        "np.concatenate((moving_average(A.flatten(), 10), np.zeros(7))))"
      ]
    },
    {
      "cell_type": "markdown",
      "metadata": {
        "id": "Q9SnpT3nbsWq"
      },
      "source": [
        "# Задание 2.14 (8 баллов)\n",
        "\n",
        "Постройте график функции $$f(x) = (5  \\sin(2x) - \\cos^2(x) - 1 + |x^3| - x^2) / (x^2 + 1)$$  \n",
        "\n",
        "и производной от этой функции.  Найдите минимум с помощью `scipy` и обозначьте его на графике. На этой же оси постройте графики скользящего среднего этой функции с окном $1$, $2$, $5$."
      ]
    },
    {
      "cell_type": "code",
      "execution_count": 16,
      "metadata": {
        "colab": {
          "base_uri": "https://localhost:8080/",
          "height": 268
        },
        "id": "ABVj31klbsWr",
        "outputId": "189bff0a-7d6e-4d35-bbe9-ead2c5452629"
      },
      "outputs": [
        {
          "output_type": "display_data",
          "data": {
            "text/plain": [
              "<Figure size 432x288 with 1 Axes>"
            ],
            "image/png": "[encoded data removed]"
          },
          "metadata": {}
        }
      ],
      "source": [
        "from scipy.misc import derivative\n",
        "from scipy.optimize import fmin_bfgs\n",
        "\n",
        "f = lambda x: (5 * np.sin(2 * x) - np.cos(x) ** 2 - 1 + np.abs(x ** 3) - x ** 2) / (x ** 2 + 1)\n",
        "\n",
        "x = np.linspace(-7, 7, 400)\n",
        "y = f(x)\n",
        "\n",
        "plt.plot(x, y)\n",
        "plt.plot(x, derivative(f, x, dx=1e-6))\n",
        "\n",
        "min = fmin_bfgs(f, 0, disp=False)\n",
        "plt.scatter(min, f(min))\n",
        "\n",
        "plt.plot(x, moving_average(y, 1))\n",
        "plt.plot(x[1:], moving_average(y, 2))\n",
        "plt.plot(x[2:-2], moving_average(y, 5))\n",
        "\n",
        "plt.show()"
      ]
    },
    {
      "cell_type": "markdown",
      "metadata": {
        "id": "D27RfeUdbsWr"
      },
      "source": [
        "# Задание 2.15 (10 баллов)\n",
        "\n",
        "Есть следующий алгоритм семплинирования, на вход функции подается вектор из целых положительных чисел и число семплов."
      ]
    },
    {
      "cell_type": "code",
      "execution_count": 18,
      "metadata": {
        "colab": {
          "base_uri": "https://localhost:8080/"
        },
        "id": "tnH_zncPbsWr",
        "outputId": "7cd025ab-28f3-4033-f82b-b3e731ff4a6c"
      },
      "outputs": [
        {
          "output_type": "execute_result",
          "data": {
            "text/plain": [
              "[0, 1, 0, 0, 3]"
            ]
          },
          "metadata": {},
          "execution_count": 18
        }
      ],
      "source": [
        "from typing import List \n",
        "\n",
        "def sample(x: List[int], c: int) -> List[int]:\n",
        "    assert len(x) > 0\n",
        "    \n",
        "    s = np.sum(x)\n",
        "    res = []\n",
        "    for _ in range(c):\n",
        "        val = s * np.random.random()\n",
        "        cur, idx = 0, 0        \n",
        "        while cur + x[idx] <= val:\n",
        "            cur += x[idx]\n",
        "            idx += 1\n",
        "            \n",
        "        res.append(idx)\n",
        "    return res\n",
        "\n",
        "            \n",
        "sample([50, 3, 1, 7, 20], 5)   "
      ]
    },
    {
      "cell_type": "markdown",
      "metadata": {
        "id": "gavTgVA4bsWr"
      },
      "source": [
        "Реализуйте данный алгоритм более оптимальным способом на массивах `numpy`, без использования циклов. Проверьте корректность и идентичность алгоритмов семплирования с помощью статистических тестов."
      ]
    },
    {
      "cell_type": "code",
      "execution_count": 19,
      "metadata": {
        "colab": {
          "base_uri": "https://localhost:8080/"
        },
        "id": "SnRDiT4wbsWr",
        "outputId": "3ba70493-c82d-473d-e74c-11b2bd1ffc9f"
      },
      "outputs": [
        {
          "output_type": "execute_result",
          "data": {
            "text/plain": [
              "Ttest_indResult(statistic=-1.632993161855452, pvalue=0.14111328125000003)"
            ]
          },
          "metadata": {},
          "execution_count": 19
        }
      ],
      "source": [
        "import numpy.typing as npt\n",
        "from scipy.stats import ttest_ind\n",
        "\n",
        "def np_sample(x: npt.NDArray[np.int64], c: int) -> npt.NDArray[np.int64]:\n",
        "    assert x.size > 0\n",
        "\n",
        "    cumsum = np.cumsum(x)\n",
        "    val = np.random.rand(c) * np.sum(x)\n",
        "    res = np.argmax(cumsum > val.reshape(c, 1), axis=1)\n",
        "\n",
        "    return res\n",
        "\n",
        "np_sample(np.array([50, 3, 1, 7, 20]), 5)\n",
        "\n",
        "\n",
        "a = sample([50, 3, 1, 7, 20], 5)\n",
        "b = np_sample(np.array([50, 3, 1, 7, 20]), 5)\n",
        "\n",
        "ttest_ind(a, b)"
      ]
    },
    {
      "cell_type": "markdown",
      "metadata": {
        "id": "oSfKYOMRbsWr"
      },
      "source": [
        "# Задание 2.16 (5 баллов)\n",
        "\n",
        "Есть следующий алгоритм \"случайного блуждания\""
      ]
    },
    {
      "cell_type": "code",
      "execution_count": 20,
      "metadata": {
        "colab": {
          "base_uri": "https://localhost:8080/"
        },
        "id": "Io0ArkaPbsWr",
        "outputId": "1cbff8d2-9d0b-45fb-c33a-dc21cf5de3a5"
      },
      "outputs": [
        {
          "output_type": "execute_result",
          "data": {
            "text/plain": [
              "2139"
            ]
          },
          "metadata": {},
          "execution_count": 20
        }
      ],
      "source": [
        "import random \n",
        "\n",
        "def walk(n: int):\n",
        "    cur_position = 0\n",
        "    for i in range(n):\n",
        "        cur_position += random.choice([-3, -1, 0, 2, 3])\n",
        "\n",
        "    return cur_position\n",
        "\n",
        "walk(10_000)"
      ]
    },
    {
      "cell_type": "markdown",
      "metadata": {
        "id": "5V4M2eITbsWr"
      },
      "source": [
        "Реализуйте более эффективную версию с помощью `numpy`, сравните производительность (используя, например, magic `timeit`). Воспользовавшись [kdeplot()](https://seaborn.pydata.org/generated/seaborn.kdeplot.html) или аналогами, постройте график распределения значений `walk(10_000)` на каком-то разумном числе запусков. "
      ]
    },
    {
      "cell_type": "code",
      "execution_count": 21,
      "metadata": {
        "colab": {
          "base_uri": "https://localhost:8080/",
          "height": 322
        },
        "id": "AWt3dcW6bsWr",
        "outputId": "a449cea5-6324-4b3f-a8d4-3c196fa380ed"
      },
      "outputs": [
        {
          "output_type": "stream",
          "name": "stdout",
          "text": [
            "7.46 ms ± 1.8 ms per loop (mean ± std. dev. of 7 runs, 100 loops each)\n",
            "93.3 µs ± 1.45 µs per loop (mean ± std. dev. of 7 runs, 10000 loops each)\n"
          ]
        },
        {
          "output_type": "execute_result",
          "data": {
            "text/plain": [
              "<matplotlib.axes._subplots.AxesSubplot at 0x7fcaff64ab50>"
            ]
          },
          "metadata": {},
          "execution_count": 21
        },
        {
          "output_type": "display_data",
          "data": {
            "text/plain": [
              "<Figure size 432x288 with 1 Axes>"
            ],
            "image/png": "[encoded data removed]"
          },
          "metadata": {}
        }
      ],
      "source": [
        "def np_walk(n: int):\n",
        "    return np.random.randint(-3, 4, n).sum()\n",
        "\n",
        "np_walk(10_000)\n",
        "%timeit walk(10_000)\n",
        "%timeit np_walk(10_000)\n",
        "\n",
        "n = 300\n",
        "\n",
        "res_np_walk = np.zeros(n)\n",
        "\n",
        "for i in range(n):\n",
        "    res_np_walk[i] = np_walk(10_000)\n",
        "\n",
        "sns.kdeplot(data=res_np_walk)"
      ]
    },
    {
      "cell_type": "markdown",
      "metadata": {
        "id": "8_o-lBLzbsWs"
      },
      "source": [
        "# Задание 2.17 (5 баллов)\n",
        "\n",
        "Имеется функция, которая проделывает достаточно странные манипуляции с массивом `numpy`"
      ]
    },
    {
      "cell_type": "code",
      "execution_count": 23,
      "metadata": {
        "colab": {
          "base_uri": "https://localhost:8080/"
        },
        "id": "liHAMjwybsWs",
        "outputId": "518fcbf5-431e-4ad2-c8f3-b5947b8a94a5"
      },
      "outputs": [
        {
          "output_type": "execute_result",
          "data": {
            "text/plain": [
              "0.36200805441364947"
            ]
          },
          "metadata": {},
          "execution_count": 23
        }
      ],
      "source": [
        "import numpy.typing as npt\n",
        "\n",
        "def strange_conv(a: npt.NDArray[np.float64]) -> np.float64:\n",
        "    x = a.shape[0]\n",
        "    y = a.shape[1]\n",
        "\n",
        "    t = 1.\n",
        "    for y in range(y - 5):\n",
        "        for x in range(x - 3):\n",
        "            c = 1.5 * a[y+1, x+2] - a[y+5, x+3] * a[y, x] + 0.2 * a[y+4, x]\n",
        "            t = 0.2 * t + 0.8 * c\n",
        "\n",
        "    return t\n",
        "\n",
        "\n",
        "a = np.random.random((10000, 10000))\n",
        "strange_conv(a)\n"
      ]
    },
    {
      "cell_type": "markdown",
      "metadata": {
        "id": "uSeHepnabsWs"
      },
      "source": [
        "Оптимизируйте данную функцию с помощью (2 на выбор):\n",
        "- [Numba](https://numba.pydata.org)\n",
        "- `Cython` (+5 баллов)\n",
        "- [Taichi](https://github.com/taichi-dev/taichi) (+5 баллов)\n",
        "- `Pythran `[[1]](https://pythran.readthedocs.io/en/latest/), [[2]](https://serge-sans-paille.github.io/pythran-stories/pythran-tutorial.html) (+2 балла)\n",
        "\n",
        "Сравните производительность."
      ]
    },
    {
      "cell_type": "code",
      "execution_count": 24,
      "metadata": {
        "colab": {
          "base_uri": "https://localhost:8080/"
        },
        "id": "C8fB8pcabsWs",
        "outputId": "e1ff18e5-51aa-4d1b-ba39-626cf5751b21"
      },
      "outputs": [
        {
          "output_type": "execute_result",
          "data": {
            "text/plain": [
              "0.36200805441364947"
            ]
          },
          "metadata": {},
          "execution_count": 24
        }
      ],
      "source": [
        "import numba\n",
        "\n",
        "strange_conv_numba = numba.jit(strange_conv)\n",
        "strange_conv_numba(a)"
      ]
    },
    {
      "cell_type": "code",
      "source": [
        "!pip install taichi"
      ],
      "metadata": {
        "colab": {
          "base_uri": "https://localhost:8080/"
        },
        "id": "J7lEhfVTewzz",
        "outputId": "2dd6d553-82bd-4039-d5cb-72197cc35b6b"
      },
      "execution_count": 45,
      "outputs": [
        {
          "output_type": "stream",
          "name": "stdout",
          "text": [
            "Looking in indexes: https://pypi.org/simple, https://us-python.pkg.dev/colab-wheels/public/simple/\n",
            "Collecting taichi\n",
            "  Downloading taichi-1.4.0-cp38-cp38-manylinux_2_27_x86_64.whl (32.6 MB)\n",
            "\u001b[2K     \u001b[90m━━━━━━━━━━━━━━━━━━━━━━━━━━━━━━━━━━━━━━━━\u001b[0m \u001b[32m32.6/32.6 MB\u001b[0m \u001b[31m19.2 MB/s\u001b[0m eta \u001b[36m0:00:00\u001b[0m\n",
            "\u001b[?25hRequirement already satisfied: astunparse in /usr/local/lib/python3.8/dist-packages (from taichi) (1.6.3)\n",
            "Collecting rich\n",
            "  Downloading rich-13.1.0-py3-none-any.whl (238 kB)\n",
            "\u001b[2K     \u001b[90m━━━━━━━━━━━━━━━━━━━━━━━━━━━━━━━━━━━━━━\u001b[0m \u001b[32m238.4/238.4 KB\u001b[0m \u001b[31m16.6 MB/s\u001b[0m eta \u001b[36m0:00:00\u001b[0m\n",
            "\u001b[?25hRequirement already satisfied: numpy in /usr/local/lib/python3.8/dist-packages (from taichi) (1.21.6)\n",
            "Collecting colorama\n",
            "  Downloading colorama-0.4.6-py2.py3-none-any.whl (25 kB)\n",
            "Requirement already satisfied: dill in /usr/local/lib/python3.8/dist-packages (from taichi) (0.3.6)\n",
            "Requirement already satisfied: wheel<1.0,>=0.23.0 in /usr/local/lib/python3.8/dist-packages (from astunparse->taichi) (0.38.4)\n",
            "Requirement already satisfied: six<2.0,>=1.6.1 in /usr/local/lib/python3.8/dist-packages (from astunparse->taichi) (1.15.0)\n",
            "Requirement already satisfied: pygments<3.0.0,>=2.6.0 in /usr/local/lib/python3.8/dist-packages (from rich->taichi) (2.6.1)\n",
            "Requirement already satisfied: typing-extensions<5.0,>=4.0.0 in /usr/local/lib/python3.8/dist-packages (from rich->taichi) (4.4.0)\n",
            "Collecting commonmark<0.10.0,>=0.9.0\n",
            "  Downloading commonmark-0.9.1-py2.py3-none-any.whl (51 kB)\n",
            "\u001b[2K     \u001b[90m━━━━━━━━━━━━━━━━━━━━━━━━━━━━━━━━━━━━━━━━\u001b[0m \u001b[32m51.1/51.1 KB\u001b[0m \u001b[31m5.0 MB/s\u001b[0m eta \u001b[36m0:00:00\u001b[0m\n",
            "\u001b[?25hInstalling collected packages: commonmark, rich, colorama, taichi\n",
            "Successfully installed colorama-0.4.6 commonmark-0.9.1 rich-13.1.0 taichi-1.4.0\n"
          ]
        }
      ]
    },
    {
      "cell_type": "code",
      "source": [
        "import taichi as ti\n",
        "\n",
        "ti.init(arch=ti.cpu)\n",
        "\n",
        "@ti.kernel\n",
        "def strange_conv_taichi(a: ti.types.ndarray()) -> ti.f64:\n",
        "    _x = a.shape[0]\n",
        "    _y = a.shape[1]\n",
        "\n",
        "    t = 1.\n",
        "    for y in range(_y - 5):\n",
        "        for x in range(_x - 4 * (y + 1) + 1):\n",
        "            c = 1.5 * a[y + 1, x + 2] - a[y + 5, x + 3] * a[y, x] + 0.2 * a[y + 4, x]\n",
        "            t = 0.2 * t + 0.8 * c\n",
        "\n",
        "    return t\n",
        "\n",
        "strange_conv_taichi(a)"
      ],
      "metadata": {
        "colab": {
          "base_uri": "https://localhost:8080/"
        },
        "id": "OoqdPGT4giqc",
        "outputId": "13c4e98f-e6fe-4b73-bbd1-5ba7d75f8f1a"
      },
      "execution_count": 46,
      "outputs": [
        {
          "output_type": "stream",
          "name": "stdout",
          "text": [
            "[Taichi] version 1.4.0, llvm 15.0.4, commit fbe92fd8, linux, python 3.8.16\n",
            "[Taichi] Starting on arch=x64\n"
          ]
        },
        {
          "output_type": "execute_result",
          "data": {
            "text/plain": [
              "0.36200806498527527"
            ]
          },
          "metadata": {},
          "execution_count": 46
        }
      ]
    }
  ],
  "metadata": {
    "kernelspec": {
      "display_name": "Python 3.10.6 64-bit",
      "language": "python",
      "name": "python3"
    },
    "language_info": {
      "codemirror_mode": {
        "name": "ipython",
        "version": 3
      },
      "file_extension": ".py",
      "mimetype": "text/x-python",
      "name": "python",
      "nbconvert_exporter": "python",
      "pygments_lexer": "ipython3",
      "version": "3.10.6"
    },
    "orig_nbformat": 4,
    "vscode": {
      "interpreter": {
        "hash": "916dbcbb3f70747c44a77c7bcd40155683ae19c65e1c03b4aa3499c5328201f1"
      }
    },
    "colab": {
      "provenance": []
    }
  },
  "nbformat": 4,
  "nbformat_minor": 0
}